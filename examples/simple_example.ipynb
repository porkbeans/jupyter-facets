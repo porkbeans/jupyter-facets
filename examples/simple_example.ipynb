{
 "cells": [
  {
   "cell_type": "code",
   "execution_count": 1,
   "metadata": {},
   "outputs": [],
   "source": [
    "import openml\n",
    "import ipyfacets as facets"
   ]
  },
  {
   "cell_type": "code",
   "execution_count": 2,
   "metadata": {},
   "outputs": [
    {
     "data": {
      "text/html": [
       "<div>\n",
       "<style scoped>\n",
       "    .dataframe tbody tr th:only-of-type {\n",
       "        vertical-align: middle;\n",
       "    }\n",
       "\n",
       "    .dataframe tbody tr th {\n",
       "        vertical-align: top;\n",
       "    }\n",
       "\n",
       "    .dataframe thead th {\n",
       "        text-align: right;\n",
       "    }\n",
       "</style>\n",
       "<table border=\"1\" class=\"dataframe\">\n",
       "  <thead>\n",
       "    <tr style=\"text-align: right;\">\n",
       "      <th></th>\n",
       "      <th>sepallength</th>\n",
       "      <th>sepalwidth</th>\n",
       "      <th>petallength</th>\n",
       "      <th>petalwidth</th>\n",
       "      <th>class</th>\n",
       "    </tr>\n",
       "  </thead>\n",
       "  <tbody>\n",
       "    <tr>\n",
       "      <th>0</th>\n",
       "      <td>5.1</td>\n",
       "      <td>3.5</td>\n",
       "      <td>1.4</td>\n",
       "      <td>0.2</td>\n",
       "      <td>Iris-setosa</td>\n",
       "    </tr>\n",
       "    <tr>\n",
       "      <th>1</th>\n",
       "      <td>4.9</td>\n",
       "      <td>3.0</td>\n",
       "      <td>1.4</td>\n",
       "      <td>0.2</td>\n",
       "      <td>Iris-setosa</td>\n",
       "    </tr>\n",
       "    <tr>\n",
       "      <th>2</th>\n",
       "      <td>4.7</td>\n",
       "      <td>3.2</td>\n",
       "      <td>1.3</td>\n",
       "      <td>0.2</td>\n",
       "      <td>Iris-setosa</td>\n",
       "    </tr>\n",
       "    <tr>\n",
       "      <th>3</th>\n",
       "      <td>4.6</td>\n",
       "      <td>3.1</td>\n",
       "      <td>1.5</td>\n",
       "      <td>0.2</td>\n",
       "      <td>Iris-setosa</td>\n",
       "    </tr>\n",
       "    <tr>\n",
       "      <th>4</th>\n",
       "      <td>5.0</td>\n",
       "      <td>3.6</td>\n",
       "      <td>1.4</td>\n",
       "      <td>0.2</td>\n",
       "      <td>Iris-setosa</td>\n",
       "    </tr>\n",
       "  </tbody>\n",
       "</table>\n",
       "</div>"
      ],
      "text/plain": [
       "   sepallength  sepalwidth  petallength  petalwidth        class\n",
       "0          5.1         3.5          1.4         0.2  Iris-setosa\n",
       "1          4.9         3.0          1.4         0.2  Iris-setosa\n",
       "2          4.7         3.2          1.3         0.2  Iris-setosa\n",
       "3          4.6         3.1          1.5         0.2  Iris-setosa\n",
       "4          5.0         3.6          1.4         0.2  Iris-setosa"
      ]
     },
     "execution_count": 2,
     "metadata": {},
     "output_type": "execute_result"
    }
   ],
   "source": [
    "# Download iris dataset\n",
    "dataset = openml.datasets.get_dataset(61)\n",
    "data, _, _, _ = dataset.get_data()\n",
    "data.head()"
   ]
  },
  {
   "cell_type": "code",
   "execution_count": 3,
   "metadata": {},
   "outputs": [
    {
     "data": {
      "text/html": [
       "\n",
       "    <script src=\"https://cdnjs.cloudflare.com/ajax/libs/webcomponentsjs/0.7.24/webcomponents-lite.js\"></script>\n",
       "    <link rel=\"import\" href=\"https://raw.githubusercontent.com/PAIR-code/facets/master/facets-dist/facets-jupyter.html\">\n",
       "    <facets-overview id=\"facets_htMS3HyZSKh5O7zSHKrr\"></facets-overview>\n",
       "    <script>\n",
       "      document.querySelector(\"#facets_htMS3HyZSKh5O7zSHKrr\").protoInput = \"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\";\n",
       "    </script>\n"
      ],
      "text/plain": [
       "<IPython.core.display.HTML object>"
      ]
     },
     "execution_count": 3,
     "metadata": {},
     "output_type": "execute_result"
    }
   ],
   "source": [
    "facets.overview({'iris': data})"
   ]
  },
  {
   "cell_type": "code",
   "execution_count": 4,
   "metadata": {},
   "outputs": [
    {
     "data": {
      "text/html": [
       "\n",
       "    <script src=\"https://cdnjs.cloudflare.com/ajax/libs/webcomponentsjs/0.7.24/webcomponents-lite.js\"></script>\n",
       "    <link rel=\"import\" href=\"https://raw.githubusercontent.com/PAIR-code/facets/master/facets-dist/facets-jupyter.html\">\n",
       "    <facets-dive id=\"facets_wnk65XMR6Po9m3WOgFje\" height=\"600\"></facets-dive>\n",
       "    <script>\n",
       "      var data = [{\"sepallength\":5.1,\"sepalwidth\":3.5,\"petallength\":1.4,\"petalwidth\":0.2,\"class\":\"Iris-setosa\"},{\"sepallength\":4.9,\"sepalwidth\":3.0,\"petallength\":1.4,\"petalwidth\":0.2,\"class\":\"Iris-setosa\"},{\"sepallength\":4.7,\"sepalwidth\":3.2,\"petallength\":1.3,\"petalwidth\":0.2,\"class\":\"Iris-setosa\"},{\"sepallength\":4.6,\"sepalwidth\":3.1,\"petallength\":1.5,\"petalwidth\":0.2,\"class\":\"Iris-setosa\"},{\"sepallength\":5.0,\"sepalwidth\":3.6,\"petallength\":1.4,\"petalwidth\":0.2,\"class\":\"Iris-setosa\"},{\"sepallength\":5.4,\"sepalwidth\":3.9,\"petallength\":1.7,\"petalwidth\":0.4,\"class\":\"Iris-setosa\"},{\"sepallength\":4.6,\"sepalwidth\":3.4,\"petallength\":1.4,\"petalwidth\":0.3,\"class\":\"Iris-setosa\"},{\"sepallength\":5.0,\"sepalwidth\":3.4,\"petallength\":1.5,\"petalwidth\":0.2,\"class\":\"Iris-setosa\"},{\"sepallength\":4.4,\"sepalwidth\":2.9,\"petallength\":1.4,\"petalwidth\":0.2,\"class\":\"Iris-setosa\"},{\"sepallength\":4.9,\"sepalwidth\":3.1,\"petallength\":1.5,\"petalwidth\":0.1,\"class\":\"Iris-setosa\"},{\"sepallength\":5.4,\"sepalwidth\":3.7,\"petallength\":1.5,\"petalwidth\":0.2,\"class\":\"Iris-setosa\"},{\"sepallength\":4.8,\"sepalwidth\":3.4,\"petallength\":1.6,\"petalwidth\":0.2,\"class\":\"Iris-setosa\"},{\"sepallength\":4.8,\"sepalwidth\":3.0,\"petallength\":1.4,\"petalwidth\":0.1,\"class\":\"Iris-setosa\"},{\"sepallength\":4.3,\"sepalwidth\":3.0,\"petallength\":1.1,\"petalwidth\":0.1,\"class\":\"Iris-setosa\"},{\"sepallength\":5.8,\"sepalwidth\":4.0,\"petallength\":1.2,\"petalwidth\":0.2,\"class\":\"Iris-setosa\"},{\"sepallength\":5.7,\"sepalwidth\":4.4,\"petallength\":1.5,\"petalwidth\":0.4,\"class\":\"Iris-setosa\"},{\"sepallength\":5.4,\"sepalwidth\":3.9,\"petallength\":1.3,\"petalwidth\":0.4,\"class\":\"Iris-setosa\"},{\"sepallength\":5.1,\"sepalwidth\":3.5,\"petallength\":1.4,\"petalwidth\":0.3,\"class\":\"Iris-setosa\"},{\"sepallength\":5.7,\"sepalwidth\":3.8,\"petallength\":1.7,\"petalwidth\":0.3,\"class\":\"Iris-setosa\"},{\"sepallength\":5.1,\"sepalwidth\":3.8,\"petallength\":1.5,\"petalwidth\":0.3,\"class\":\"Iris-setosa\"},{\"sepallength\":5.4,\"sepalwidth\":3.4,\"petallength\":1.7,\"petalwidth\":0.2,\"class\":\"Iris-setosa\"},{\"sepallength\":5.1,\"sepalwidth\":3.7,\"petallength\":1.5,\"petalwidth\":0.4,\"class\":\"Iris-setosa\"},{\"sepallength\":4.6,\"sepalwidth\":3.6,\"petallength\":1.0,\"petalwidth\":0.2,\"class\":\"Iris-setosa\"},{\"sepallength\":5.1,\"sepalwidth\":3.3,\"petallength\":1.7,\"petalwidth\":0.5,\"class\":\"Iris-setosa\"},{\"sepallength\":4.8,\"sepalwidth\":3.4,\"petallength\":1.9,\"petalwidth\":0.2,\"class\":\"Iris-setosa\"},{\"sepallength\":5.0,\"sepalwidth\":3.0,\"petallength\":1.6,\"petalwidth\":0.2,\"class\":\"Iris-setosa\"},{\"sepallength\":5.0,\"sepalwidth\":3.4,\"petallength\":1.6,\"petalwidth\":0.4,\"class\":\"Iris-setosa\"},{\"sepallength\":5.2,\"sepalwidth\":3.5,\"petallength\":1.5,\"petalwidth\":0.2,\"class\":\"Iris-setosa\"},{\"sepallength\":5.2,\"sepalwidth\":3.4,\"petallength\":1.4,\"petalwidth\":0.2,\"class\":\"Iris-setosa\"},{\"sepallength\":4.7,\"sepalwidth\":3.2,\"petallength\":1.6,\"petalwidth\":0.2,\"class\":\"Iris-setosa\"},{\"sepallength\":4.8,\"sepalwidth\":3.1,\"petallength\":1.6,\"petalwidth\":0.2,\"class\":\"Iris-setosa\"},{\"sepallength\":5.4,\"sepalwidth\":3.4,\"petallength\":1.5,\"petalwidth\":0.4,\"class\":\"Iris-setosa\"},{\"sepallength\":5.2,\"sepalwidth\":4.1,\"petallength\":1.5,\"petalwidth\":0.1,\"class\":\"Iris-setosa\"},{\"sepallength\":5.5,\"sepalwidth\":4.2,\"petallength\":1.4,\"petalwidth\":0.2,\"class\":\"Iris-setosa\"},{\"sepallength\":4.9,\"sepalwidth\":3.1,\"petallength\":1.5,\"petalwidth\":0.1,\"class\":\"Iris-setosa\"},{\"sepallength\":5.0,\"sepalwidth\":3.2,\"petallength\":1.2,\"petalwidth\":0.2,\"class\":\"Iris-setosa\"},{\"sepallength\":5.5,\"sepalwidth\":3.5,\"petallength\":1.3,\"petalwidth\":0.2,\"class\":\"Iris-setosa\"},{\"sepallength\":4.9,\"sepalwidth\":3.1,\"petallength\":1.5,\"petalwidth\":0.1,\"class\":\"Iris-setosa\"},{\"sepallength\":4.4,\"sepalwidth\":3.0,\"petallength\":1.3,\"petalwidth\":0.2,\"class\":\"Iris-setosa\"},{\"sepallength\":5.1,\"sepalwidth\":3.4,\"petallength\":1.5,\"petalwidth\":0.2,\"class\":\"Iris-setosa\"},{\"sepallength\":5.0,\"sepalwidth\":3.5,\"petallength\":1.3,\"petalwidth\":0.3,\"class\":\"Iris-setosa\"},{\"sepallength\":4.5,\"sepalwidth\":2.3,\"petallength\":1.3,\"petalwidth\":0.3,\"class\":\"Iris-setosa\"},{\"sepallength\":4.4,\"sepalwidth\":3.2,\"petallength\":1.3,\"petalwidth\":0.2,\"class\":\"Iris-setosa\"},{\"sepallength\":5.0,\"sepalwidth\":3.5,\"petallength\":1.6,\"petalwidth\":0.6,\"class\":\"Iris-setosa\"},{\"sepallength\":5.1,\"sepalwidth\":3.8,\"petallength\":1.9,\"petalwidth\":0.4,\"class\":\"Iris-setosa\"},{\"sepallength\":4.8,\"sepalwidth\":3.0,\"petallength\":1.4,\"petalwidth\":0.3,\"class\":\"Iris-setosa\"},{\"sepallength\":5.1,\"sepalwidth\":3.8,\"petallength\":1.6,\"petalwidth\":0.2,\"class\":\"Iris-setosa\"},{\"sepallength\":4.6,\"sepalwidth\":3.2,\"petallength\":1.4,\"petalwidth\":0.2,\"class\":\"Iris-setosa\"},{\"sepallength\":5.3,\"sepalwidth\":3.7,\"petallength\":1.5,\"petalwidth\":0.2,\"class\":\"Iris-setosa\"},{\"sepallength\":5.0,\"sepalwidth\":3.3,\"petallength\":1.4,\"petalwidth\":0.2,\"class\":\"Iris-setosa\"},{\"sepallength\":7.0,\"sepalwidth\":3.2,\"petallength\":4.7,\"petalwidth\":1.4,\"class\":\"Iris-versicolor\"},{\"sepallength\":6.4,\"sepalwidth\":3.2,\"petallength\":4.5,\"petalwidth\":1.5,\"class\":\"Iris-versicolor\"},{\"sepallength\":6.9,\"sepalwidth\":3.1,\"petallength\":4.9,\"petalwidth\":1.5,\"class\":\"Iris-versicolor\"},{\"sepallength\":5.5,\"sepalwidth\":2.3,\"petallength\":4.0,\"petalwidth\":1.3,\"class\":\"Iris-versicolor\"},{\"sepallength\":6.5,\"sepalwidth\":2.8,\"petallength\":4.6,\"petalwidth\":1.5,\"class\":\"Iris-versicolor\"},{\"sepallength\":5.7,\"sepalwidth\":2.8,\"petallength\":4.5,\"petalwidth\":1.3,\"class\":\"Iris-versicolor\"},{\"sepallength\":6.3,\"sepalwidth\":3.3,\"petallength\":4.7,\"petalwidth\":1.6,\"class\":\"Iris-versicolor\"},{\"sepallength\":4.9,\"sepalwidth\":2.4,\"petallength\":3.3,\"petalwidth\":1.0,\"class\":\"Iris-versicolor\"},{\"sepallength\":6.6,\"sepalwidth\":2.9,\"petallength\":4.6,\"petalwidth\":1.3,\"class\":\"Iris-versicolor\"},{\"sepallength\":5.2,\"sepalwidth\":2.7,\"petallength\":3.9,\"petalwidth\":1.4,\"class\":\"Iris-versicolor\"},{\"sepallength\":5.0,\"sepalwidth\":2.0,\"petallength\":3.5,\"petalwidth\":1.0,\"class\":\"Iris-versicolor\"},{\"sepallength\":5.9,\"sepalwidth\":3.0,\"petallength\":4.2,\"petalwidth\":1.5,\"class\":\"Iris-versicolor\"},{\"sepallength\":6.0,\"sepalwidth\":2.2,\"petallength\":4.0,\"petalwidth\":1.0,\"class\":\"Iris-versicolor\"},{\"sepallength\":6.1,\"sepalwidth\":2.9,\"petallength\":4.7,\"petalwidth\":1.4,\"class\":\"Iris-versicolor\"},{\"sepallength\":5.6,\"sepalwidth\":2.9,\"petallength\":3.6,\"petalwidth\":1.3,\"class\":\"Iris-versicolor\"},{\"sepallength\":6.7,\"sepalwidth\":3.1,\"petallength\":4.4,\"petalwidth\":1.4,\"class\":\"Iris-versicolor\"},{\"sepallength\":5.6,\"sepalwidth\":3.0,\"petallength\":4.5,\"petalwidth\":1.5,\"class\":\"Iris-versicolor\"},{\"sepallength\":5.8,\"sepalwidth\":2.7,\"petallength\":4.1,\"petalwidth\":1.0,\"class\":\"Iris-versicolor\"},{\"sepallength\":6.2,\"sepalwidth\":2.2,\"petallength\":4.5,\"petalwidth\":1.5,\"class\":\"Iris-versicolor\"},{\"sepallength\":5.6,\"sepalwidth\":2.5,\"petallength\":3.9,\"petalwidth\":1.1,\"class\":\"Iris-versicolor\"},{\"sepallength\":5.9,\"sepalwidth\":3.2,\"petallength\":4.8,\"petalwidth\":1.8,\"class\":\"Iris-versicolor\"},{\"sepallength\":6.1,\"sepalwidth\":2.8,\"petallength\":4.0,\"petalwidth\":1.3,\"class\":\"Iris-versicolor\"},{\"sepallength\":6.3,\"sepalwidth\":2.5,\"petallength\":4.9,\"petalwidth\":1.5,\"class\":\"Iris-versicolor\"},{\"sepallength\":6.1,\"sepalwidth\":2.8,\"petallength\":4.7,\"petalwidth\":1.2,\"class\":\"Iris-versicolor\"},{\"sepallength\":6.4,\"sepalwidth\":2.9,\"petallength\":4.3,\"petalwidth\":1.3,\"class\":\"Iris-versicolor\"},{\"sepallength\":6.6,\"sepalwidth\":3.0,\"petallength\":4.4,\"petalwidth\":1.4,\"class\":\"Iris-versicolor\"},{\"sepallength\":6.8,\"sepalwidth\":2.8,\"petallength\":4.8,\"petalwidth\":1.4,\"class\":\"Iris-versicolor\"},{\"sepallength\":6.7,\"sepalwidth\":3.0,\"petallength\":5.0,\"petalwidth\":1.7,\"class\":\"Iris-versicolor\"},{\"sepallength\":6.0,\"sepalwidth\":2.9,\"petallength\":4.5,\"petalwidth\":1.5,\"class\":\"Iris-versicolor\"},{\"sepallength\":5.7,\"sepalwidth\":2.6,\"petallength\":3.5,\"petalwidth\":1.0,\"class\":\"Iris-versicolor\"},{\"sepallength\":5.5,\"sepalwidth\":2.4,\"petallength\":3.8,\"petalwidth\":1.1,\"class\":\"Iris-versicolor\"},{\"sepallength\":5.5,\"sepalwidth\":2.4,\"petallength\":3.7,\"petalwidth\":1.0,\"class\":\"Iris-versicolor\"},{\"sepallength\":5.8,\"sepalwidth\":2.7,\"petallength\":3.9,\"petalwidth\":1.2,\"class\":\"Iris-versicolor\"},{\"sepallength\":6.0,\"sepalwidth\":2.7,\"petallength\":5.1,\"petalwidth\":1.6,\"class\":\"Iris-versicolor\"},{\"sepallength\":5.4,\"sepalwidth\":3.0,\"petallength\":4.5,\"petalwidth\":1.5,\"class\":\"Iris-versicolor\"},{\"sepallength\":6.0,\"sepalwidth\":3.4,\"petallength\":4.5,\"petalwidth\":1.6,\"class\":\"Iris-versicolor\"},{\"sepallength\":6.7,\"sepalwidth\":3.1,\"petallength\":4.7,\"petalwidth\":1.5,\"class\":\"Iris-versicolor\"},{\"sepallength\":6.3,\"sepalwidth\":2.3,\"petallength\":4.4,\"petalwidth\":1.3,\"class\":\"Iris-versicolor\"},{\"sepallength\":5.6,\"sepalwidth\":3.0,\"petallength\":4.1,\"petalwidth\":1.3,\"class\":\"Iris-versicolor\"},{\"sepallength\":5.5,\"sepalwidth\":2.5,\"petallength\":4.0,\"petalwidth\":1.3,\"class\":\"Iris-versicolor\"},{\"sepallength\":5.5,\"sepalwidth\":2.6,\"petallength\":4.4,\"petalwidth\":1.2,\"class\":\"Iris-versicolor\"},{\"sepallength\":6.1,\"sepalwidth\":3.0,\"petallength\":4.6,\"petalwidth\":1.4,\"class\":\"Iris-versicolor\"},{\"sepallength\":5.8,\"sepalwidth\":2.6,\"petallength\":4.0,\"petalwidth\":1.2,\"class\":\"Iris-versicolor\"},{\"sepallength\":5.0,\"sepalwidth\":2.3,\"petallength\":3.3,\"petalwidth\":1.0,\"class\":\"Iris-versicolor\"},{\"sepallength\":5.6,\"sepalwidth\":2.7,\"petallength\":4.2,\"petalwidth\":1.3,\"class\":\"Iris-versicolor\"},{\"sepallength\":5.7,\"sepalwidth\":3.0,\"petallength\":4.2,\"petalwidth\":1.2,\"class\":\"Iris-versicolor\"},{\"sepallength\":5.7,\"sepalwidth\":2.9,\"petallength\":4.2,\"petalwidth\":1.3,\"class\":\"Iris-versicolor\"},{\"sepallength\":6.2,\"sepalwidth\":2.9,\"petallength\":4.3,\"petalwidth\":1.3,\"class\":\"Iris-versicolor\"},{\"sepallength\":5.1,\"sepalwidth\":2.5,\"petallength\":3.0,\"petalwidth\":1.1,\"class\":\"Iris-versicolor\"},{\"sepallength\":5.7,\"sepalwidth\":2.8,\"petallength\":4.1,\"petalwidth\":1.3,\"class\":\"Iris-versicolor\"},{\"sepallength\":6.3,\"sepalwidth\":3.3,\"petallength\":6.0,\"petalwidth\":2.5,\"class\":\"Iris-virginica\"},{\"sepallength\":5.8,\"sepalwidth\":2.7,\"petallength\":5.1,\"petalwidth\":1.9,\"class\":\"Iris-virginica\"},{\"sepallength\":7.1,\"sepalwidth\":3.0,\"petallength\":5.9,\"petalwidth\":2.1,\"class\":\"Iris-virginica\"},{\"sepallength\":6.3,\"sepalwidth\":2.9,\"petallength\":5.6,\"petalwidth\":1.8,\"class\":\"Iris-virginica\"},{\"sepallength\":6.5,\"sepalwidth\":3.0,\"petallength\":5.8,\"petalwidth\":2.2,\"class\":\"Iris-virginica\"},{\"sepallength\":7.6,\"sepalwidth\":3.0,\"petallength\":6.6,\"petalwidth\":2.1,\"class\":\"Iris-virginica\"},{\"sepallength\":4.9,\"sepalwidth\":2.5,\"petallength\":4.5,\"petalwidth\":1.7,\"class\":\"Iris-virginica\"},{\"sepallength\":7.3,\"sepalwidth\":2.9,\"petallength\":6.3,\"petalwidth\":1.8,\"class\":\"Iris-virginica\"},{\"sepallength\":6.7,\"sepalwidth\":2.5,\"petallength\":5.8,\"petalwidth\":1.8,\"class\":\"Iris-virginica\"},{\"sepallength\":7.2,\"sepalwidth\":3.6,\"petallength\":6.1,\"petalwidth\":2.5,\"class\":\"Iris-virginica\"},{\"sepallength\":6.5,\"sepalwidth\":3.2,\"petallength\":5.1,\"petalwidth\":2.0,\"class\":\"Iris-virginica\"},{\"sepallength\":6.4,\"sepalwidth\":2.7,\"petallength\":5.3,\"petalwidth\":1.9,\"class\":\"Iris-virginica\"},{\"sepallength\":6.8,\"sepalwidth\":3.0,\"petallength\":5.5,\"petalwidth\":2.1,\"class\":\"Iris-virginica\"},{\"sepallength\":5.7,\"sepalwidth\":2.5,\"petallength\":5.0,\"petalwidth\":2.0,\"class\":\"Iris-virginica\"},{\"sepallength\":5.8,\"sepalwidth\":2.8,\"petallength\":5.1,\"petalwidth\":2.4,\"class\":\"Iris-virginica\"},{\"sepallength\":6.4,\"sepalwidth\":3.2,\"petallength\":5.3,\"petalwidth\":2.3,\"class\":\"Iris-virginica\"},{\"sepallength\":6.5,\"sepalwidth\":3.0,\"petallength\":5.5,\"petalwidth\":1.8,\"class\":\"Iris-virginica\"},{\"sepallength\":7.7,\"sepalwidth\":3.8,\"petallength\":6.7,\"petalwidth\":2.2,\"class\":\"Iris-virginica\"},{\"sepallength\":7.7,\"sepalwidth\":2.6,\"petallength\":6.9,\"petalwidth\":2.3,\"class\":\"Iris-virginica\"},{\"sepallength\":6.0,\"sepalwidth\":2.2,\"petallength\":5.0,\"petalwidth\":1.5,\"class\":\"Iris-virginica\"},{\"sepallength\":6.9,\"sepalwidth\":3.2,\"petallength\":5.7,\"petalwidth\":2.3,\"class\":\"Iris-virginica\"},{\"sepallength\":5.6,\"sepalwidth\":2.8,\"petallength\":4.9,\"petalwidth\":2.0,\"class\":\"Iris-virginica\"},{\"sepallength\":7.7,\"sepalwidth\":2.8,\"petallength\":6.7,\"petalwidth\":2.0,\"class\":\"Iris-virginica\"},{\"sepallength\":6.3,\"sepalwidth\":2.7,\"petallength\":4.9,\"petalwidth\":1.8,\"class\":\"Iris-virginica\"},{\"sepallength\":6.7,\"sepalwidth\":3.3,\"petallength\":5.7,\"petalwidth\":2.1,\"class\":\"Iris-virginica\"},{\"sepallength\":7.2,\"sepalwidth\":3.2,\"petallength\":6.0,\"petalwidth\":1.8,\"class\":\"Iris-virginica\"},{\"sepallength\":6.2,\"sepalwidth\":2.8,\"petallength\":4.8,\"petalwidth\":1.8,\"class\":\"Iris-virginica\"},{\"sepallength\":6.1,\"sepalwidth\":3.0,\"petallength\":4.9,\"petalwidth\":1.8,\"class\":\"Iris-virginica\"},{\"sepallength\":6.4,\"sepalwidth\":2.8,\"petallength\":5.6,\"petalwidth\":2.1,\"class\":\"Iris-virginica\"},{\"sepallength\":7.2,\"sepalwidth\":3.0,\"petallength\":5.8,\"petalwidth\":1.6,\"class\":\"Iris-virginica\"},{\"sepallength\":7.4,\"sepalwidth\":2.8,\"petallength\":6.1,\"petalwidth\":1.9,\"class\":\"Iris-virginica\"},{\"sepallength\":7.9,\"sepalwidth\":3.8,\"petallength\":6.4,\"petalwidth\":2.0,\"class\":\"Iris-virginica\"},{\"sepallength\":6.4,\"sepalwidth\":2.8,\"petallength\":5.6,\"petalwidth\":2.2,\"class\":\"Iris-virginica\"},{\"sepallength\":6.3,\"sepalwidth\":2.8,\"petallength\":5.1,\"petalwidth\":1.5,\"class\":\"Iris-virginica\"},{\"sepallength\":6.1,\"sepalwidth\":2.6,\"petallength\":5.6,\"petalwidth\":1.4,\"class\":\"Iris-virginica\"},{\"sepallength\":7.7,\"sepalwidth\":3.0,\"petallength\":6.1,\"petalwidth\":2.3,\"class\":\"Iris-virginica\"},{\"sepallength\":6.3,\"sepalwidth\":3.4,\"petallength\":5.6,\"petalwidth\":2.4,\"class\":\"Iris-virginica\"},{\"sepallength\":6.4,\"sepalwidth\":3.1,\"petallength\":5.5,\"petalwidth\":1.8,\"class\":\"Iris-virginica\"},{\"sepallength\":6.0,\"sepalwidth\":3.0,\"petallength\":4.8,\"petalwidth\":1.8,\"class\":\"Iris-virginica\"},{\"sepallength\":6.9,\"sepalwidth\":3.1,\"petallength\":5.4,\"petalwidth\":2.1,\"class\":\"Iris-virginica\"},{\"sepallength\":6.7,\"sepalwidth\":3.1,\"petallength\":5.6,\"petalwidth\":2.4,\"class\":\"Iris-virginica\"},{\"sepallength\":6.9,\"sepalwidth\":3.1,\"petallength\":5.1,\"petalwidth\":2.3,\"class\":\"Iris-virginica\"},{\"sepallength\":5.8,\"sepalwidth\":2.7,\"petallength\":5.1,\"petalwidth\":1.9,\"class\":\"Iris-virginica\"},{\"sepallength\":6.8,\"sepalwidth\":3.2,\"petallength\":5.9,\"petalwidth\":2.3,\"class\":\"Iris-virginica\"},{\"sepallength\":6.7,\"sepalwidth\":3.3,\"petallength\":5.7,\"petalwidth\":2.5,\"class\":\"Iris-virginica\"},{\"sepallength\":6.7,\"sepalwidth\":3.0,\"petallength\":5.2,\"petalwidth\":2.3,\"class\":\"Iris-virginica\"},{\"sepallength\":6.3,\"sepalwidth\":2.5,\"petallength\":5.0,\"petalwidth\":1.9,\"class\":\"Iris-virginica\"},{\"sepallength\":6.5,\"sepalwidth\":3.0,\"petallength\":5.2,\"petalwidth\":2.0,\"class\":\"Iris-virginica\"},{\"sepallength\":6.2,\"sepalwidth\":3.4,\"petallength\":5.4,\"petalwidth\":2.3,\"class\":\"Iris-virginica\"},{\"sepallength\":5.9,\"sepalwidth\":3.0,\"petallength\":5.1,\"petalwidth\":1.8,\"class\":\"Iris-virginica\"}];\n",
       "      document.querySelector(\"#facets_wnk65XMR6Po9m3WOgFje\").data = data;\n",
       "    </script>\n"
      ],
      "text/plain": [
       "<IPython.core.display.HTML object>"
      ]
     },
     "execution_count": 4,
     "metadata": {},
     "output_type": "execute_result"
    }
   ],
   "source": [
    "facets.dive(data)"
   ]
  }
 ],
 "metadata": {
  "kernelspec": {
   "display_name": "Python 3",
   "language": "python",
   "name": "python3"
  },
  "language_info": {
   "codemirror_mode": {
    "name": "ipython",
    "version": 3
   },
   "file_extension": ".py",
   "mimetype": "text/x-python",
   "name": "python",
   "nbconvert_exporter": "python",
   "pygments_lexer": "ipython3",
   "version": "3.6.8"
  }
 },
 "nbformat": 4,
 "nbformat_minor": 2
}

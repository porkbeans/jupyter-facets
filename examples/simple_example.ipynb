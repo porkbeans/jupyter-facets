{
 "cells": [
  {
   "cell_type": "code",
   "execution_count": 1,
   "metadata": {},
   "outputs": [],
   "source": [
    "import openml\n",
    "import ipyfacets as facets"
   ]
  },
  {
   "cell_type": "code",
   "execution_count": 2,
   "metadata": {},
   "outputs": [
    {
     "data": {
      "text/html": [
       "<div>\n",
       "<style scoped>\n",
       "    .dataframe tbody tr th:only-of-type {\n",
       "        vertical-align: middle;\n",
       "    }\n",
       "\n",
       "    .dataframe tbody tr th {\n",
       "        vertical-align: top;\n",
       "    }\n",
       "\n",
       "    .dataframe thead th {\n",
       "        text-align: right;\n",
       "    }\n",
       "</style>\n",
       "<table border=\"1\" class=\"dataframe\">\n",
       "  <thead>\n",
       "    <tr style=\"text-align: right;\">\n",
       "      <th></th>\n",
       "      <th>sepallength</th>\n",
       "      <th>sepalwidth</th>\n",
       "      <th>petallength</th>\n",
       "      <th>petalwidth</th>\n",
       "      <th>class</th>\n",
       "    </tr>\n",
       "  </thead>\n",
       "  <tbody>\n",
       "    <tr>\n",
       "      <th>0</th>\n",
       "      <td>5.1</td>\n",
       "      <td>3.5</td>\n",
       "      <td>1.4</td>\n",
       "      <td>0.2</td>\n",
       "      <td>Iris-setosa</td>\n",
       "    </tr>\n",
       "    <tr>\n",
       "      <th>1</th>\n",
       "      <td>4.9</td>\n",
       "      <td>3.0</td>\n",
       "      <td>1.4</td>\n",
       "      <td>0.2</td>\n",
       "      <td>Iris-setosa</td>\n",
       "    </tr>\n",
       "    <tr>\n",
       "      <th>2</th>\n",
       "      <td>4.7</td>\n",
       "      <td>3.2</td>\n",
       "      <td>1.3</td>\n",
       "      <td>0.2</td>\n",
       "      <td>Iris-setosa</td>\n",
       "    </tr>\n",
       "    <tr>\n",
       "      <th>3</th>\n",
       "      <td>4.6</td>\n",
       "      <td>3.1</td>\n",
       "      <td>1.5</td>\n",
       "      <td>0.2</td>\n",
       "      <td>Iris-setosa</td>\n",
       "    </tr>\n",
       "    <tr>\n",
       "      <th>4</th>\n",
       "      <td>5.0</td>\n",
       "      <td>3.6</td>\n",
       "      <td>1.4</td>\n",
       "      <td>0.2</td>\n",
       "      <td>Iris-setosa</td>\n",
       "    </tr>\n",
       "  </tbody>\n",
       "</table>\n",
       "</div>"
      ],
      "text/plain": [
       "   sepallength  sepalwidth  petallength  petalwidth        class\n",
       "0          5.1         3.5          1.4         0.2  Iris-setosa\n",
       "1          4.9         3.0          1.4         0.2  Iris-setosa\n",
       "2          4.7         3.2          1.3         0.2  Iris-setosa\n",
       "3          4.6         3.1          1.5         0.2  Iris-setosa\n",
       "4          5.0         3.6          1.4         0.2  Iris-setosa"
      ]
     },
     "execution_count": 2,
     "metadata": {},
     "output_type": "execute_result"
    }
   ],
   "source": [
    "# Download iris dataset\n",
    "dataset = openml.datasets.get_dataset(61)\n",
    "data, _, _, _ = dataset.get_data()\n",
    "data.head()"
   ]
  },
  {
   "cell_type": "code",
   "execution_count": 3,
   "metadata": {},
   "outputs": [
    {
     "data": {
      "text/html": [
       "\n",
       "    <script src=\"https://cdnjs.cloudflare.com/ajax/libs/webcomponentsjs/1.3.3/webcomponents-lite.js\"></script>\n",
       "    <link rel=\"import\" href=\"https://raw.githubusercontent.com/PAIR-code/facets/1.0.0/facets-dist/facets-jupyter.html\">\n",
       "    <facets-overview id=\"facets_Ovxd9g101EFQgB7xfqsX\"></facets-overview>\n",
       "    <script>\n",
       "      document.querySelector(\"#facets_Ovxd9g101EFQgB7xfqsX\").protoInput = \"CuAgCgtJcmlzLXNldG9zYRAyGsAHCgtzZXBhbGxlbmd0aBABGq4HCrICCDIYASABLQAAgD8ypAIaGwkAAAAAAADwPxEAAAAAAADwPyEAAAAAAAAUQBobCQAAAAAAAPA/EQAAAAAAAPA/IQAAAAAAABRAGhsJAAAAAAAA8D8RAAAAAAAA8D8hAAAAAAAAFEAaGwkAAAAAAADwPxEAAAAAAADwPyEAAAAAAAAUQBobCQAAAAAAAPA/EQAAAAAAAPA/IQAAAAAAABRAGhsJAAAAAAAA8D8RAAAAAAAA8D8hAAAAAAAAFEAaGwkAAAAAAADwPxEAAAAAAADwPyEAAAAAAAAUQBobCQAAAAAAAPA/EQAAAAAAAPA/IQAAAAAAABRAGhsJAAAAAAAA8D8RAAAAAAAA8D8hAAAAAAAAFEAaGwkAAAAAAADwPxEAAAAAAADwPyEAAAAAAAAUQCABEaAaL90kBhRAGazOtL4lVdY/KTMzMzMzMxFAMQAAAAAAABRAOTMzMzMzMxdAQqICGhsJMzMzMzMzEUARzczMzMzMEUAhAAAAAAAAEEAaGwnNzMzMzMwRQBFmZmZmZmYSQCEAAAAAAADwPxobCWZmZmZmZhJAEQAAAAAAABNAIQAAAAAAABhAGhsJAAAAAAAAE0ARmZmZmZmZE0AhAAAAAAAAFEAaGwmZmZmZmZkTQBEzMzMzMzMUQCEAAAAAAAAoQBobCTMzMzMzMxRAEczMzMzMzBRAIQAAAAAAACBAGhsJzMzMzMzMFEARZmZmZmZmFUAhAAAAAAAAEEAaGwlmZmZmZmYVQBEAAAAAAAAWQCEAAAAAAAAUQBobCQAAAAAAABZAEZmZmZmZmRZAIQAAAAAAAABAGhsJmZmZmZmZFkARMzMzMzMzF0AhAAAAAAAACEBCpAIaGwkzMzMzMzMRQBFcj8L1KFwSQCEAAAAAAAAUQBobCVyPwvUoXBJAEc3MzMzMzBJAIQAAAAAAABRAGhsJzczMzMzMEkARMzMzMzMzE0AhAAAAAAAAFEAaGwkzMzMzMzMTQBHXo3A9CtcTQCEAAAAAAAAUQBobCdejcD0K1xNAEQAAAAAAABRAIQAAAAAAABRAGhsJAAAAAAAAFEARZmZmZmZmFEAhAAAAAAAAFEAaGwlmZmZmZmYUQBFmZmZmZmYUQCEAAAAAAAAUQBobCWZmZmZmZhRAEUjhehSuRxVAIQAAAAAAABRAGhsJSOF6FK5HFUARpHA9CtejFUAhAAAAAAAAFEAaGwmkcD0K16MVQBEzMzMzMzMXQCEAAAAAAAAUQCABGrYHCgpzZXBhbHdpZHRoEAEapQcKsgIIMhgBIAEtAACAPzKkAhobCQAAAAAAAPA/EQAAAAAAAPA/IQAAAAAAABRAGhsJAAAAAAAA8D8RAAAAAAAA8D8hAAAAAAAAFEAaGwkAAAAAAADwPxEAAAAAAADwPyEAAAAAAAAUQBobCQAAAAAAAPA/EQAAAAAAAPA/IQAAAAAAABRAGhsJAAAAAAAA8D8RAAAAAAAA8D8hAAAAAAAAFEAaGwkAAAAAAADwPxEAAAAAAADwPyEAAAAAAAAUQBobCQAAAAAAAPA/EQAAAAAAAPA/IQAAAAAAABRAGhsJAAAAAAAA8D8RAAAAAAAA8D8hAAAAAAAAFEAaGwkAAAAAAADwPxEAAAAAAADwPyEAAAAAAAAUQBobCQAAAAAAAPA/EQAAAAAAAPA/IQAAAAAAABRAIAER8tJNYhBYC0AZTGV7HvYj2D8pZmZmZmZmAkAxMzMzMzMzC0A5mpmZmZmZEUBCmQIaGwlmZmZmZmYCQBEUrkfhehQEQCEAAAAAAADwPxoSCRSuR+F6FARAEcL1KFyPwgVAGhsJwvUoXI/CBUARcD0K16NwB0AhAAAAAAAA8D8aGwlwPQrXo3AHQBEfhetRuB4JQCEAAAAAAAAmQBobCR+F61G4HglAEc3MzMzMzApAIQAAAAAAABxAGhsJzczMzMzMCkARexSuR+F6DEAhAAAAAAAALkAaGwl7FK5H4XoMQBEqXI/C9SgOQCEAAAAAAAAUQBobCSpcj8L1KA5AEdijcD0K1w9AIQAAAAAAABhAGhsJ2KNwPQrXD0ARw/UoXI/CEEAhAAAAAAAAAEAaGwnD9Shcj8IQQBGamZmZmZkRQCEAAAAAAAAAQEKkAhobCWZmZmZmZgJAEQAAAAAAAAhAIQAAAAAAABRAGhsJAAAAAAAACEARzczMzMzMCEAhAAAAAAAAFEAaGwnNzMzMzMwIQBGamZmZmZkJQCEAAAAAAAAUQBobCZqZmZmZmQlAEeJ6FK5H4QpAIQAAAAAAABRAGhsJ4noUrkfhCkARMzMzMzMzC0AhAAAAAAAAFEAaGwkzMzMzMzMLQBEAAAAAAAAMQCEAAAAAAAAUQBobCQAAAAAAAAxAET0K16NwPQxAIQAAAAAAABRAGhsJPQrXo3A9DEARxPUoXI/CDUAhAAAAAAAAFEAaGwnE9Shcj8INQBEzMzMzMzMPQCEAAAAAAAAUQBobCTMzMzMzMw9AEZqZmZmZmRFAIQAAAAAAABRAIAEatwcKC3BldGFsbGVuZ3RoEAEapQcKsgIIMhgBIAEtAACAPzKkAhobCQAAAAAAAPA/EQAAAAAAAPA/IQAAAAAAABRAGhsJAAAAAAAA8D8RAAAAAAAA8D8hAAAAAAAAFEAaGwkAAAAAAADwPxEAAAAAAADwPyEAAAAAAAAUQBobCQAAAAAAAPA/EQAAAAAAAPA/IQAAAAAAABRAGhsJAAAAAAAA8D8RAAAAAAAA8D8hAAAAAAAAFEAaGwkAAAAAAADwPxEAAAAAAADwPyEAAAAAAAAUQBobCQAAAAAAAPA/EQAAAAAAAPA/IQAAAAAAABRAGhsJAAAAAAAA8D8RAAAAAAAA8D8hAAAAAAAAFEAaGwkAAAAAAADwPxEAAAAAAADwPyEAAAAAAAAUQBobCQAAAAAAAPA/EQAAAAAAAPA/IQAAAAAAABRAIAERBoGVQ4ts9z8ZamqSanj8xT8pAAAAAAAA8D8xAAAAAAAA+D85ZmZmZmZm/j9CmQIaGwkAAAAAAADwPxFxPQrXo3DxPyEAAAAAAADwPxobCXE9CtejcPE/EeF6FK5H4fI/IQAAAAAAAPA/GhsJ4XoUrkfh8j8RUrgehetR9D8hAAAAAAAAAEAaGwlSuB6F61H0PxHC9Shcj8L1PyEAAAAAAAAcQBobCcL1KFyPwvU/ETMzMzMzM/c/IQAAAAAAAChAGhsJMzMzMzMz9z8RpHA9Ctej+D8hAAAAAAAALEAaGwmkcD0K16P4PxEUrkfhehT6PyEAAAAAAAAcQBobCRSuR+F6FPo/EYXrUbgehfs/IQAAAAAAABBAGhIJhetRuB6F+z8R9ihcj8L1/D8aGwn2KFyPwvX8PxFmZmZmZmb+PyEAAAAAAAAAQEKkAhobCQAAAAAAAPA/Ec3MzMzMzPQ/IQAAAAAAABRAGhsJzczMzMzM9D8RzczMzMzM9D8hAAAAAAAAFEAaGwnNzMzMzMz0PxFmZmZmZmb2PyEAAAAAAAAUQBobCWZmZmZmZvY/EWZmZmZmZvY/IQAAAAAAABRAGhsJZmZmZmZm9j8RAAAAAAAA+D8hAAAAAAAAFEAaGwkAAAAAAAD4PxEAAAAAAAD4PyEAAAAAAAAUQBobCQAAAAAAAPg/EQAAAAAAAPg/IQAAAAAAABRAGhsJAAAAAAAA+D8RmpmZmZmZ+T8hAAAAAAAAFEAaGwmamZmZmZn5PxEzMzMzMzP7PyEAAAAAAAAUQBobCTMzMzMzM/s/EWZmZmZmZv4/IQAAAAAAABRAIAEamwcKCnBldGFsd2lkdGgQARqKBwqyAggyGAEgAS0AAIA/MqQCGhsJAAAAAAAA8D8RAAAAAAAA8D8hAAAAAAAAFEAaGwkAAAAAAADwPxEAAAAAAADwPyEAAAAAAAAUQBobCQAAAAAAAPA/EQAAAAAAAPA/IQAAAAAAABRAGhsJAAAAAAAA8D8RAAAAAAAA8D8hAAAAAAAAFEAaGwkAAAAAAADwPxEAAAAAAADwPyEAAAAAAAAUQBobCQAAAAAAAPA/EQAAAAAAAPA/IQAAAAAAABRAGhsJAAAAAAAA8D8RAAAAAAAA8D8hAAAAAAAAFEAaGwkAAAAAAADwPxEAAAAAAADwPyEAAAAAAAAUQBobCQAAAAAAAPA/EQAAAAAAAPA/IQAAAAAAABRAGhsJAAAAAAAA8D8RAAAAAAAA8D8hAAAAAAAAFEAgAREIrBxaZDvPPxmp6D5gdyu7PymamZmZmZm5PzGamZmZmZnJPzkzMzMzMzPjP0L+ARobCZqZmZmZmbk/ETQzMzMzM8M/IQAAAAAAABhAGhIJNDMzMzMzwz8RmpmZmZmZyT8aGwmamZmZmZnJPxEAAAAAAADQPyEAAAAAAAA8QBobCQAAAAAAANA/ETQzMzMzM9M/IQAAAAAAABxAGhIJNDMzMzMz0z8RZmZmZmZm1j8aEglmZmZmZmbWPxGamZmZmZnZPxobCZqZmZmZmdk/Ec7MzMzMzNw/IQAAAAAAABxAGhIJzszMzMzM3D8RAAAAAAAA4D8aGwkAAAAAAADgPxGamZmZmZnhPyEAAAAAAADwPxobCZqZmZmZmeE/ETMzMzMzM+M/IQAAAAAAAPA/QqQCGhsJmpmZmZmZuT8RmpmZmZmZuT8hAAAAAAAAFEAaGwmamZmZmZm5PxGamZmZmZnJPyEAAAAAAAAUQBobCZqZmZmZmck/EZqZmZmZmck/IQAAAAAAABRAGhsJmpmZmZmZyT8RmpmZmZmZyT8hAAAAAAAAFEAaGwmamZmZmZnJPxGamZmZmZnJPyEAAAAAAAAUQBobCZqZmZmZmck/EZqZmZmZmck/IQAAAAAAABRAGhsJmpmZmZmZyT8RMzMzMzMz0z8hAAAAAAAAFEAaGwkzMzMzMzPTPxEzMzMzMzPTPyEAAAAAAAAUQBobCTMzMzMzM9M/EZqZmZmZmdk/IQAAAAAAABRAGhsJmpmZmZmZ2T8RMzMzMzMz4z8hAAAAAAAAFEAgARr6AgoFY2xhc3MQAiLuAgqyAggyGAEgAS0AAIA/MqQCGhsJAAAAAAAA8D8RAAAAAAAA8D8hAAAAAAAAFEAaGwkAAAAAAADwPxEAAAAAAADwPyEAAAAAAAAUQBobCQAAAAAAAPA/EQAAAAAAAPA/IQAAAAAAABRAGhsJAAAAAAAA8D8RAAAAAAAA8D8hAAAAAAAAFEAaGwkAAAAAAADwPxEAAAAAAADwPyEAAAAAAAAUQBobCQAAAAAAAPA/EQAAAAAAAPA/IQAAAAAAABRAGhsJAAAAAAAA8D8RAAAAAAAA8D8hAAAAAAAAFEAaGwkAAAAAAADwPxEAAAAAAADwPyEAAAAAAAAUQBobCQAAAAAAAPA/EQAAAAAAAPA/IQAAAAAAABRAGhsJAAAAAAAA8D8RAAAAAAAA8D8hAAAAAAAAFEAgARABGhYSC0lyaXMtc2V0b3NhGQAAAAAAAElAJQAAMEEqGAoWIgtJcmlzLXNldG9zYSkAAAAAAABJQAqZIQoPSXJpcy12ZXJzaWNvbG9yEDIawAcKC3NlcGFsbGVuZ3RoEAEargcKsgIIMhgBIAEtAACAPzKkAhobCQAAAAAAAPA/EQAAAAAAAPA/IQAAAAAAABRAGhsJAAAAAAAA8D8RAAAAAAAA8D8hAAAAAAAAFEAaGwkAAAAAAADwPxEAAAAAAADwPyEAAAAAAAAUQBobCQAAAAAAAPA/EQAAAAAAAPA/IQAAAAAAABRAGhsJAAAAAAAA8D8RAAAAAAAA8D8hAAAAAAAAFEAaGwkAAAAAAADwPxEAAAAAAADwPyEAAAAAAAAUQBobCQAAAAAAAPA/EQAAAAAAAPA/IQAAAAAAABRAGhsJAAAAAAAA8D8RAAAAAAAA8D8hAAAAAAAAFEAaGwkAAAAAAADwPxEAAAAAAADwPyEAAAAAAAAUQBobCQAAAAAAAPA/EQAAAAAAAPA/IQAAAAAAABRAIAERWDm0yHa+F0AZqG+MyflZ4D8pmpmZmZmZE0AxmpmZmZmZF0A5AAAAAAAAHEBCogIaGwmamZmZmZkTQBFxPQrXo3AUQCEAAAAAAAAQQBobCXE9CtejcBRAEUjhehSuRxVAIQAAAAAAAPA/GhsJSOF6FK5HFUARH4XrUbgeFkAhAAAAAAAAGEAaGwkfhetRuB4WQBH2KFyPwvUWQCEAAAAAAAAkQBobCfYoXI/C9RZAEc3MzMzMzBdAIQAAAAAAABRAGhsJzczMzMzMF0ARpHA9CtejGEAhAAAAAAAAIEAaGwmkcD0K16MYQBF7FK5H4XoZQCEAAAAAAAAUQBobCXsUrkfhehlAEVK4HoXrURpAIQAAAAAAAAhAGhsJUrgehetRGkARKVyPwvUoG0AhAAAAAAAAFEAaGwkpXI/C9SgbQBEAAAAAAAAcQCEAAAAAAAAIQEKkAhobCZqZmZmZmRNAEYXrUbgehRVAIQAAAAAAABRAGhsJhetRuB6FFUARAAAAAAAAFkAhAAAAAAAAFEAaGwkAAAAAAAAWQBFmZmZmZmYWQCEAAAAAAAAUQBobCWZmZmZmZhZAEc3MzMzMzBZAIQAAAAAAABRAGhsJzczMzMzMFkARmpmZmZmZF0AhAAAAAAAAFEAaGwmamZmZmZkXQBEoXI/C9SgYQCEAAAAAAAAUQBobCShcj8L1KBhAEc3MzMzMzBhAIQAAAAAAABRAGhsJzczMzMzMGEARmpmZmZmZGUAhAAAAAAAAFEAaGwmamZmZmZkZQBHNzMzMzMwaQCEAAAAAAAAUQBobCc3MzMzMzBpAEQAAAAAAABxAIQAAAAAAABRAIAEavwcKCnNlcGFsd2lkdGgQARquBwqyAggyGAEgAS0AAIA/MqQCGhsJAAAAAAAA8D8RAAAAAAAA8D8hAAAAAAAAFEAaGwkAAAAAAADwPxEAAAAAAADwPyEAAAAAAAAUQBobCQAAAAAAAPA/EQAAAAAAAPA/IQAAAAAAABRAGhsJAAAAAAAA8D8RAAAAAAAA8D8hAAAAAAAAFEAaGwkAAAAAAADwPxEAAAAAAADwPyEAAAAAAAAUQBobCQAAAAAAAPA/EQAAAAAAAPA/IQAAAAAAABRAGhsJAAAAAAAA8D8RAAAAAAAA8D8hAAAAAAAAFEAaGwkAAAAAAADwPxEAAAAAAADwPyEAAAAAAAAUQBobCQAAAAAAAPA/EQAAAAAAAPA/IQAAAAAAABRAGhsJAAAAAAAA8D8RAAAAAAAA8D8hAAAAAAAAFEAgAREqXI/C9SgGQBnIRb9umeHTPykAAAAAAAAAQDFmZmZmZmYGQDkzMzMzMzMLQEKiAhobCQAAAAAAAABAER+F61G4HgFAIQAAAAAAAPA/GhsJH4XrUbgeAUARPQrXo3A9AkAhAAAAAAAAAEAaGwk9CtejcD0CQBFcj8L1KFwDQCEAAAAAAAAYQBobCVyPwvUoXANAEXsUrkfhegRAIQAAAAAAABBAGhsJexSuR+F6BEARmpmZmZmZBUAhAAAAAAAACEAaGwmamZmZmZkFQBG4HoXrUbgGQCEAAAAAAAAmQBobCbgehetRuAZAEdejcD0K1wdAIQAAAAAAABxAGhsJ16NwPQrXB0AR9ihcj8L1CEAhAAAAAAAAJkAaGwn2KFyPwvUIQBEUrkfhehQKQCEAAAAAAAAIQBobCRSuR+F6FApAETMzMzMzMwtAIQAAAAAAAABAQqQCGhsJAAAAAAAAAEARZmZmZmZmAkAhAAAAAAAAFEAaGwlmZmZmZmYCQBEAAAAAAAAEQCEAAAAAAAAUQBobCQAAAAAAAARAEc3MzMzMzARAIQAAAAAAABRAGhsJzczMzMzMBEARmpmZmZmZBUAhAAAAAAAAFEAaGwmamZmZmZkFQBFmZmZmZmYGQCEAAAAAAAAUQBobCWZmZmZmZgZAETMzMzMzMwdAIQAAAAAAABRAGhsJMzMzMzMzB0ARAAAAAAAACEAhAAAAAAAAFEAaGwkAAAAAAAAIQBEAAAAAAAAIQCEAAAAAAAAUQBobCQAAAAAAAAhAEeJ6FK5H4QhAIQAAAAAAABRAGhsJ4noUrkfhCEARMzMzMzMzC0AhAAAAAAAAFEAgARrABwoLcGV0YWxsZW5ndGgQARquBwqyAggyGAEgAS0AAIA/MqQCGhsJAAAAAAAA8D8RAAAAAAAA8D8hAAAAAAAAFEAaGwkAAAAAAADwPxEAAAAAAADwPyEAAAAAAAAUQBobCQAAAAAAAPA/EQAAAAAAAPA/IQAAAAAAABRAGhsJAAAAAAAA8D8RAAAAAAAA8D8hAAAAAAAAFEAaGwkAAAAAAADwPxEAAAAAAADwPyEAAAAAAAAUQBobCQAAAAAAAPA/EQAAAAAAAPA/IQAAAAAAABRAGhsJAAAAAAAA8D8RAAAAAAAA8D8hAAAAAAAAFEAaGwkAAAAAAADwPxEAAAAAAADwPyEAAAAAAAAUQBobCQAAAAAAAPA/EQAAAAAAAPA/IQAAAAAAABRAGhsJAAAAAAAA8D8RAAAAAAAA8D8hAAAAAAAAFEAgAREK16NwPQoRQBmY2XxzpMXdPykAAAAAAAAIQDFmZmZmZmYRQDlmZmZmZmYUQEKiAhobCQAAAAAAAAhAEa5H4XoUrglAIQAAAAAAAPA/GhsJrkfhehSuCUARXI/C9ShcC0AhAAAAAAAAAEAaGwlcj8L1KFwLQBEK16NwPQoNQCEAAAAAAAAIQBobCQrXo3A9Cg1AEbgehetRuA5AIQAAAAAAAABAGhsJuB6F61G4DkARMzMzMzMzEEAhAAAAAAAAIEAaGwkzMzMzMzMQQBEK16NwPQoRQCEAAAAAAAAcQBobCQrXo3A9ChFAEeF6FK5H4RFAIQAAAAAAABhAGhsJ4XoUrkfhEUARuB6F61G4EkAhAAAAAAAAJEAaGwm4HoXrUbgSQBGPwvUoXI8TQCEAAAAAAAAcQBobCY/C9ShcjxNAEWZmZmZmZhRAIQAAAAAAABBAQqQCGhsJAAAAAAAACEARuR6F61G4DEAhAAAAAAAAFEAaGwm5HoXrUbgMQBEzMzMzMzMPQCEAAAAAAAAUQBobCTMzMzMzMw9AEQAAAAAAABBAIQAAAAAAABRAGhsJAAAAAAAAEEARzczMzMzMEEAhAAAAAAAAFEAaGwnNzMzMzMwQQBFmZmZmZmYRQCEAAAAAAAAUQBobCWZmZmZmZhFAEQAAAAAAABJAIQAAAAAAABRAGhsJAAAAAAAAEkARAAAAAAAAEkAhAAAAAAAAFEAaGwkAAAAAAAASQBHNzMzMzMwSQCEAAAAAAAAUQBobCc3MzMzMzBJAETMzMzMzMxNAIQAAAAAAABRAGhsJMzMzMzMzE0ARZmZmZmZmFEAhAAAAAAAAFEAgARq2BwoKcGV0YWx3aWR0aBABGqUHCrICCDIYASABLQAAgD8ypAIaGwkAAAAAAADwPxEAAAAAAADwPyEAAAAAAAAUQBobCQAAAAAAAPA/EQAAAAAAAPA/IQAAAAAAABRAGhsJAAAAAAAA8D8RAAAAAAAA8D8hAAAAAAAAFEAaGwkAAAAAAADwPxEAAAAAAADwPyEAAAAAAAAUQBobCQAAAAAAAPA/EQAAAAAAAPA/IQAAAAAAABRAGhsJAAAAAAAA8D8RAAAAAAAA8D8hAAAAAAAAFEAaGwkAAAAAAADwPxEAAAAAAADwPyEAAAAAAAAUQBobCQAAAAAAAPA/EQAAAAAAAPA/IQAAAAAAABRAGhsJAAAAAAAA8D8RAAAAAAAA8D8hAAAAAAAAFEAaGwkAAAAAAADwPxEAAAAAAADwPyEAAAAAAAAUQCABEZ3vp8ZLN/U/GYS8oTvVDsk/KQAAAAAAAPA/Mc3MzMzMzPQ/Oc3MzMzMzPw/QpkCGhsJAAAAAAAA8D8RSOF6FK5H8T8hAAAAAAAAHEAaGwlI4XoUrkfxPxGPwvUoXI/yPyEAAAAAAAAIQBobCY/C9Shcj/I/EdejcD0K1/M/IQAAAAAAABRAGhsJ16NwPQrX8z8RH4XrUbge9T8hAAAAAAAAKkAaEgkfhetRuB71PxFmZmZmZmb2PxobCWZmZmZmZvY/Ea5H4XoUrvc/IQAAAAAAABxAGhsJrkfhehSu9z8R9ihcj8L1+D8hAAAAAAAAJEAaGwn2KFyPwvX4PxE+CtejcD36PyEAAAAAAAAIQBobCT4K16NwPfo/EYXrUbgehfs/IQAAAAAAAPA/GhsJhetRuB6F+z8RzczMzMzM/D8hAAAAAAAA8D9CpAIaGwkAAAAAAADwPxEAAAAAAADwPyEAAAAAAAAUQBobCQAAAAAAAPA/EeJ6FK5H4fI/IQAAAAAAABRAGhsJ4noUrkfh8j8RUrgehetR9D8hAAAAAAAAFEAaGwlSuB6F61H0PxHNzMzMzMz0PyEAAAAAAAAUQBobCc3MzMzMzPQ/Ec3MzMzMzPQ/IQAAAAAAABRAGhsJzczMzMzM9D8RZmZmZmZm9j8hAAAAAAAAFEAaGwlmZmZmZmb2PxHgehSuR+H2PyEAAAAAAAAUQBobCeB6FK5H4fY/EQAAAAAAAPg/IQAAAAAAABRAGhsJAAAAAAAA+D8RKlyPwvUo+D8hAAAAAAAAFEAaGwkqXI/C9Sj4PxHNzMzMzMz8PyEAAAAAAAAUQCABGoIDCgVjbGFzcxACIvYCCrICCDIYASABLQAAgD8ypAIaGwkAAAAAAADwPxEAAAAAAADwPyEAAAAAAAAUQBobCQAAAAAAAPA/EQAAAAAAAPA/IQAAAAAAABRAGhsJAAAAAAAA8D8RAAAAAAAA8D8hAAAAAAAAFEAaGwkAAAAAAADwPxEAAAAAAADwPyEAAAAAAAAUQBobCQAAAAAAAPA/EQAAAAAAAPA/IQAAAAAAABRAGhsJAAAAAAAA8D8RAAAAAAAA8D8hAAAAAAAAFEAaGwkAAAAAAADwPxEAAAAAAADwPyEAAAAAAAAUQBobCQAAAAAAAPA/EQAAAAAAAPA/IQAAAAAAABRAGhsJAAAAAAAA8D8RAAAAAAAA8D8hAAAAAAAAFEAaGwkAAAAAAADwPxEAAAAAAADwPyEAAAAAAAAUQCABEAEaGhIPSXJpcy12ZXJzaWNvbG9yGQAAAAAAAElAJQAAcEEqHAoaIg9JcmlzLXZlcnNpY29sb3IpAAAAAAAASUAKliEKDklyaXMtdmlyZ2luaWNhEDIatwcKC3NlcGFsbGVuZ3RoEAEapQcKsgIIMhgBIAEtAACAPzKkAhobCQAAAAAAAPA/EQAAAAAAAPA/IQAAAAAAABRAGhsJAAAAAAAA8D8RAAAAAAAA8D8hAAAAAAAAFEAaGwkAAAAAAADwPxEAAAAAAADwPyEAAAAAAAAUQBobCQAAAAAAAPA/EQAAAAAAAPA/IQAAAAAAABRAGhsJAAAAAAAA8D8RAAAAAAAA8D8hAAAAAAAAFEAaGwkAAAAAAADwPxEAAAAAAADwPyEAAAAAAAAUQBobCQAAAAAAAPA/EQAAAAAAAPA/IQAAAAAAABRAGhsJAAAAAAAA8D8RAAAAAAAA8D8hAAAAAAAAFEAaGwkAAAAAAADwPxEAAAAAAADwPyEAAAAAAAAUQBobCQAAAAAAAPA/EQAAAAAAAPA/IQAAAAAAABRAIAERJTEIrBxaGkAZfup4csUk5D8pmpmZmZmZE0AxAAAAAAAAGkA5mpmZmZmZH0BCmQIaGwmamZmZmZkTQBHNzMzMzMwUQCEAAAAAAADwPxoSCc3MzMzMzBRAEQAAAAAAABZAGhsJAAAAAAAAFkARNDMzMzMzF0AhAAAAAAAAFEAaGwk0MzMzMzMXQBFnZmZmZmYYQCEAAAAAAAAUQBobCWdmZmZmZhhAEZqZmZmZmRlAIQAAAAAAACBAGhsJmpmZmZmZGUARzczMzMzMGkAhAAAAAAAAIkAaGwnNzMzMzMwaQBEAAAAAAAAcQCEAAAAAAAAkQBobCQAAAAAAABxAETQzMzMzMx1AIQAAAAAAABRAGhsJNDMzMzMzHUARZmZmZmZmHkAhAAAAAAAA8D8aGwlmZmZmZmYeQBGamZmZmZkfQCEAAAAAAAAYQEKkAhobCZqZmZmZmRNAETMzMzMzMxdAIQAAAAAAABRAGhsJMzMzMzMzF0ARZmZmZmZmGEAhAAAAAAAAFEAaGwlmZmZmZmYYQBEzMzMzMzMZQCEAAAAAAAAUQBobCTMzMzMzMxlAEZqZmZmZmRlAIQAAAAAAABRAGhsJmpmZmZmZGUARAAAAAAAAGkAhAAAAAAAAFEAaGwkAAAAAAAAaQBHMzMzMzMwaQCEAAAAAAAAUQBobCczMzMzMzBpAEVK4HoXrURtAIQAAAAAAABRAGhsJUrgehetRG0ARzczMzMzMHEAhAAAAAAAAFEAaGwnNzMzMzMwcQBFxPQrXo3AeQCEAAAAAAAAUQBobCXE9CtejcB5AEZqZmZmZmR9AIQAAAAAAABRAIAEavwcKCnNlcGFsd2lkdGgQARquBwqyAggyGAEgAS0AAIA/MqQCGhsJAAAAAAAA8D8RAAAAAAAA8D8hAAAAAAAAFEAaGwkAAAAAAADwPxEAAAAAAADwPyEAAAAAAAAUQBobCQAAAAAAAPA/EQAAAAAAAPA/IQAAAAAAABRAGhsJAAAAAAAA8D8RAAAAAAAA8D8hAAAAAAAAFEAaGwkAAAAAAADwPxEAAAAAAADwPyEAAAAAAAAUQBobCQAAAAAAAPA/EQAAAAAAAPA/IQAAAAAAABRAGhsJAAAAAAAA8D8RAAAAAAAA8D8hAAAAAAAAFEAaGwkAAAAAAADwPxEAAAAAAADwPyEAAAAAAAAUQBobCQAAAAAAAPA/EQAAAAAAAPA/IQAAAAAAABRAGhsJAAAAAAAA8D8RAAAAAAAA8D8hAAAAAAAAFEAgARGYbhKDwMoHQBkM1fohrm7UPymamZmZmZkBQDEAAAAAAAAIQDlmZmZmZmYOQEKiAhobCZqZmZmZmQFAEeJ6FK5H4QJAIQAAAAAAAPA/GhsJ4noUrkfhAkARKVyPwvUoBEAhAAAAAAAAEEAaGwkpXI/C9SgEQBFxPQrXo3AFQCEAAAAAAAAAQBobCXE9CtejcAVAEbgehetRuAZAIQAAAAAAAChAGhsJuB6F61G4BkARAAAAAAAACEAhAAAAAAAAAEAaGwkAAAAAAAAIQBFI4XoUrkcJQCEAAAAAAAAwQBobCUjhehSuRwlAEZDC9ShcjwpAIQAAAAAAACBAGhsJkML1KFyPCkAR16NwPQrXC0AhAAAAAAAAAEAaGwnXo3A9CtcLQBEehetRuB4NQCEAAAAAAADwPxobCR6F61G4Hg1AEWZmZmZmZg5AIQAAAAAAAABAQqQCGhsJmpmZmZmZAUARuR6F61G4BEAhAAAAAAAAFEAaGwm5HoXrUbgEQBGamZmZmZkFQCEAAAAAAAAUQBobCZqZmZmZmQVAEWZmZmZmZgZAIQAAAAAAABRAGhsJZmZmZmZmBkARMzMzMzMzB0AhAAAAAAAAFEAaGwkzMzMzMzMHQBEAAAAAAAAIQCEAAAAAAAAUQBobCQAAAAAAAAhAEQAAAAAAAAhAIQAAAAAAABRAGhsJAAAAAAAACEARzczMzMzMCEAhAAAAAAAAFEAaGwnNzMzMzMwIQBGamZmZmZkJQCEAAAAAAAAUQBobCZqZmZmZmQlAEXsUrkfhegpAIQAAAAAAABRAGhsJexSuR+F6CkARZmZmZmZmDkAhAAAAAAAAFEAgARrABwoLcGV0YWxsZW5ndGgQARquBwqyAggyGAEgAS0AAIA/MqQCGhsJAAAAAAAA8D8RAAAAAAAA8D8hAAAAAAAAFEAaGwkAAAAAAADwPxEAAAAAAADwPyEAAAAAAAAUQBobCQAAAAAAAPA/EQAAAAAAAPA/IQAAAAAAABRAGhsJAAAAAAAA8D8RAAAAAAAA8D8hAAAAAAAAFEAaGwkAAAAAAADwPxEAAAAAAADwPyEAAAAAAAAUQBobCQAAAAAAAPA/EQAAAAAAAPA/IQAAAAAAABRAGhsJAAAAAAAA8D8RAAAAAAAA8D8hAAAAAAAAFEAaGwkAAAAAAADwPxEAAAAAAADwPyEAAAAAAAAUQBobCQAAAAAAAPA/EQAAAAAAAPA/IQAAAAAAABRAGhsJAAAAAAAA8D8RAAAAAAAA8D8hAAAAAAAAFEAgARFpke18PzUWQBn6nqqJrnvhPykAAAAAAAASQDEzMzMzMzMWQDmamZmZmZkbQEKiAhobCQAAAAAAABJAEfYoXI/C9RJAIQAAAAAAAPA/GhsJ9ihcj8L1EkAR7FG4HoXrE0AhAAAAAAAAFEAaGwnsUbgehesTQBHiehSuR+EUQCEAAAAAAAAoQBobCeJ6FK5H4RRAEdejcD0K1xVAIQAAAAAAABBAGhsJ16NwPQrXFUARzczMzMzMFkAhAAAAAAAAIkAaGwnNzMzMzMwWQBHD9Shcj8IXQCEAAAAAAAAgQBobCcP1KFyPwhdAEbkehetRuBhAIQAAAAAAABRAGhsJuR6F61G4GEARrkfhehSuGUAhAAAAAAAAAEAaGwmuR+F6FK4ZQBGkcD0K16MaQCEAAAAAAADwPxobCaRwPQrXoxpAEZqZmZmZmRtAIQAAAAAAAAhAQqQCGhsJAAAAAAAAEkARmpmZmZmZE0AhAAAAAAAAFEAaGwmamZmZmZkTQBFmZmZmZmYUQCEAAAAAAAAUQBobCWZmZmZmZhRAEWZmZmZmZhRAIQAAAAAAABRAGhsJZmZmZmZmFEARcT0K16NwFUAhAAAAAAAAFEAaGwlxPQrXo3AVQBEzMzMzMzMWQCEAAAAAAAAUQBobCTMzMzMzMxZAEWZmZmZmZhZAIQAAAAAAABRAGhsJZmZmZmZmFkARMzMzMzMzF0AhAAAAAAAAFEAaGwkzMzMzMzMXQBEAAAAAAAAYQCEAAAAAAAAUQBobCQAAAAAAABhAET4K16NwPRlAIQAAAAAAABRAGhsJPgrXo3A9GUARmpmZmZmZG0AhAAAAAAAAFEAgARq/BwoKcGV0YWx3aWR0aBABGq4HCrICCDIYASABLQAAgD8ypAIaGwkAAAAAAADwPxEAAAAAAADwPyEAAAAAAAAUQBobCQAAAAAAAPA/EQAAAAAAAPA/IQAAAAAAABRAGhsJAAAAAAAA8D8RAAAAAAAA8D8hAAAAAAAAFEAaGwkAAAAAAADwPxEAAAAAAADwPyEAAAAAAAAUQBobCQAAAAAAAPA/EQAAAAAAAPA/IQAAAAAAABRAGhsJAAAAAAAA8D8RAAAAAAAA8D8hAAAAAAAAFEAaGwkAAAAAAADwPxEAAAAAAADwPyEAAAAAAAAUQBobCQAAAAAAAPA/EQAAAAAAAPA/IQAAAAAAABRAGhsJAAAAAAAA8D8RAAAAAAAA8D8hAAAAAAAAFEAaGwkAAAAAAADwPxEAAAAAAADwPyEAAAAAAAAUQCABEWmR7Xw/NQBAGeRQs/yjZtE/KWZmZmZmZvY/MQAAAAAAAABAOQAAAAAAAARAQqICGhsJZmZmZmZm9j8RKVyPwvUo+D8hAAAAAAAACEAaGwkpXI/C9Sj4PxHrUbgehev5PyEAAAAAAADwPxobCetRuB6F6/k/Ea5H4XoUrvs/IQAAAAAAAPA/GhsJrkfhehSu+z8RcD0K16Nw/T8hAAAAAAAAJkAaGwlwPQrXo3D9PxEzMzMzMzP/PyEAAAAAAAAUQBobCTMzMzMzM/8/EXsUrkfhegBAIQAAAAAAABhAGhsJexSuR+F6AEARXI/C9ShcAUAhAAAAAAAAGEAaGwlcj8L1KFwBQBE+CtejcD0CQCEAAAAAAAAIQBobCT4K16NwPQJAER+F61G4HgNAIQAAAAAAACBAGhsJH4XrUbgeA0ARAAAAAAAABEAhAAAAAAAAGEBCpAIaGwlmZmZmZmb2PxGlcD0K16P8PyEAAAAAAAAUQBobCaVwPQrXo/w/Ec3MzMzMzPw/IQAAAAAAABRAGhsJzczMzMzM/D8RzMzMzMzM/D8hAAAAAAAAFEAaGwnMzMzMzMz8PxFmZmZmZmb+PyEAAAAAAAAUQBobCWZmZmZmZv4/EQAAAAAAAABAIQAAAAAAABRAGhsJAAAAAAAAAEARzczMzMzMAEAhAAAAAAAAFEAaGwnNzMzMzMwAQBGamZmZmZkBQCEAAAAAAAAUQBobCZqZmZmZmQFAEWZmZmZmZgJAIQAAAAAAABRAGhsJZmZmZmZmAkARMzMzMzMzA0AhAAAAAAAAFEAaGwkzMzMzMzMDQBEAAAAAAAAEQCEAAAAAAAAUQCABGoADCgVjbGFzcxACIvQCCrICCDIYASABLQAAgD8ypAIaGwkAAAAAAADwPxEAAAAAAADwPyEAAAAAAAAUQBobCQAAAAAAAPA/EQAAAAAAAPA/IQAAAAAAABRAGhsJAAAAAAAA8D8RAAAAAAAA8D8hAAAAAAAAFEAaGwkAAAAAAADwPxEAAAAAAADwPyEAAAAAAAAUQBobCQAAAAAAAPA/EQAAAAAAAPA/IQAAAAAAABRAGhsJAAAAAAAA8D8RAAAAAAAA8D8hAAAAAAAAFEAaGwkAAAAAAADwPxEAAAAAAADwPyEAAAAAAAAUQBobCQAAAAAAAPA/EQAAAAAAAPA/IQAAAAAAABRAGhsJAAAAAAAA8D8RAAAAAAAA8D8hAAAAAAAAFEAaGwkAAAAAAADwPxEAAAAAAADwPyEAAAAAAAAUQCABEAEaGRIOSXJpcy12aXJnaW5pY2EZAAAAAAAASUAlAABgQSobChkiDklyaXMtdmlyZ2luaWNhKQAAAAAAAElA\";\n",
       "    </script>\n"
      ],
      "text/plain": [
       "<IPython.core.display.HTML object>"
      ]
     },
     "execution_count": 3,
     "metadata": {},
     "output_type": "execute_result"
    }
   ],
   "source": [
    "facets.overview({c: df for c, df in data.groupby(by='class')})"
   ]
  },
  {
   "cell_type": "code",
   "execution_count": 4,
   "metadata": {},
   "outputs": [
    {
     "data": {
      "text/html": [
       "\n",
       "    <script src=\"https://cdnjs.cloudflare.com/ajax/libs/webcomponentsjs/1.3.3/webcomponents-lite.js\"></script>\n",
       "    <link rel=\"import\" href=\"https://raw.githubusercontent.com/PAIR-code/facets/1.0.0/facets-dist/facets-jupyter.html\">\n",
       "    <facets-dive id=\"facets_8UDRr4bAmqhU50plQeFp\" height=\"600\"></facets-dive>\n",
       "    <script>\n",
       "      var data = [{\"sepallength\":5.1,\"sepalwidth\":3.5,\"petallength\":1.4,\"petalwidth\":0.2,\"class\":\"Iris-setosa\"},{\"sepallength\":4.9,\"sepalwidth\":3.0,\"petallength\":1.4,\"petalwidth\":0.2,\"class\":\"Iris-setosa\"},{\"sepallength\":4.7,\"sepalwidth\":3.2,\"petallength\":1.3,\"petalwidth\":0.2,\"class\":\"Iris-setosa\"},{\"sepallength\":4.6,\"sepalwidth\":3.1,\"petallength\":1.5,\"petalwidth\":0.2,\"class\":\"Iris-setosa\"},{\"sepallength\":5.0,\"sepalwidth\":3.6,\"petallength\":1.4,\"petalwidth\":0.2,\"class\":\"Iris-setosa\"},{\"sepallength\":5.4,\"sepalwidth\":3.9,\"petallength\":1.7,\"petalwidth\":0.4,\"class\":\"Iris-setosa\"},{\"sepallength\":4.6,\"sepalwidth\":3.4,\"petallength\":1.4,\"petalwidth\":0.3,\"class\":\"Iris-setosa\"},{\"sepallength\":5.0,\"sepalwidth\":3.4,\"petallength\":1.5,\"petalwidth\":0.2,\"class\":\"Iris-setosa\"},{\"sepallength\":4.4,\"sepalwidth\":2.9,\"petallength\":1.4,\"petalwidth\":0.2,\"class\":\"Iris-setosa\"},{\"sepallength\":4.9,\"sepalwidth\":3.1,\"petallength\":1.5,\"petalwidth\":0.1,\"class\":\"Iris-setosa\"},{\"sepallength\":5.4,\"sepalwidth\":3.7,\"petallength\":1.5,\"petalwidth\":0.2,\"class\":\"Iris-setosa\"},{\"sepallength\":4.8,\"sepalwidth\":3.4,\"petallength\":1.6,\"petalwidth\":0.2,\"class\":\"Iris-setosa\"},{\"sepallength\":4.8,\"sepalwidth\":3.0,\"petallength\":1.4,\"petalwidth\":0.1,\"class\":\"Iris-setosa\"},{\"sepallength\":4.3,\"sepalwidth\":3.0,\"petallength\":1.1,\"petalwidth\":0.1,\"class\":\"Iris-setosa\"},{\"sepallength\":5.8,\"sepalwidth\":4.0,\"petallength\":1.2,\"petalwidth\":0.2,\"class\":\"Iris-setosa\"},{\"sepallength\":5.7,\"sepalwidth\":4.4,\"petallength\":1.5,\"petalwidth\":0.4,\"class\":\"Iris-setosa\"},{\"sepallength\":5.4,\"sepalwidth\":3.9,\"petallength\":1.3,\"petalwidth\":0.4,\"class\":\"Iris-setosa\"},{\"sepallength\":5.1,\"sepalwidth\":3.5,\"petallength\":1.4,\"petalwidth\":0.3,\"class\":\"Iris-setosa\"},{\"sepallength\":5.7,\"sepalwidth\":3.8,\"petallength\":1.7,\"petalwidth\":0.3,\"class\":\"Iris-setosa\"},{\"sepallength\":5.1,\"sepalwidth\":3.8,\"petallength\":1.5,\"petalwidth\":0.3,\"class\":\"Iris-setosa\"},{\"sepallength\":5.4,\"sepalwidth\":3.4,\"petallength\":1.7,\"petalwidth\":0.2,\"class\":\"Iris-setosa\"},{\"sepallength\":5.1,\"sepalwidth\":3.7,\"petallength\":1.5,\"petalwidth\":0.4,\"class\":\"Iris-setosa\"},{\"sepallength\":4.6,\"sepalwidth\":3.6,\"petallength\":1.0,\"petalwidth\":0.2,\"class\":\"Iris-setosa\"},{\"sepallength\":5.1,\"sepalwidth\":3.3,\"petallength\":1.7,\"petalwidth\":0.5,\"class\":\"Iris-setosa\"},{\"sepallength\":4.8,\"sepalwidth\":3.4,\"petallength\":1.9,\"petalwidth\":0.2,\"class\":\"Iris-setosa\"},{\"sepallength\":5.0,\"sepalwidth\":3.0,\"petallength\":1.6,\"petalwidth\":0.2,\"class\":\"Iris-setosa\"},{\"sepallength\":5.0,\"sepalwidth\":3.4,\"petallength\":1.6,\"petalwidth\":0.4,\"class\":\"Iris-setosa\"},{\"sepallength\":5.2,\"sepalwidth\":3.5,\"petallength\":1.5,\"petalwidth\":0.2,\"class\":\"Iris-setosa\"},{\"sepallength\":5.2,\"sepalwidth\":3.4,\"petallength\":1.4,\"petalwidth\":0.2,\"class\":\"Iris-setosa\"},{\"sepallength\":4.7,\"sepalwidth\":3.2,\"petallength\":1.6,\"petalwidth\":0.2,\"class\":\"Iris-setosa\"},{\"sepallength\":4.8,\"sepalwidth\":3.1,\"petallength\":1.6,\"petalwidth\":0.2,\"class\":\"Iris-setosa\"},{\"sepallength\":5.4,\"sepalwidth\":3.4,\"petallength\":1.5,\"petalwidth\":0.4,\"class\":\"Iris-setosa\"},{\"sepallength\":5.2,\"sepalwidth\":4.1,\"petallength\":1.5,\"petalwidth\":0.1,\"class\":\"Iris-setosa\"},{\"sepallength\":5.5,\"sepalwidth\":4.2,\"petallength\":1.4,\"petalwidth\":0.2,\"class\":\"Iris-setosa\"},{\"sepallength\":4.9,\"sepalwidth\":3.1,\"petallength\":1.5,\"petalwidth\":0.1,\"class\":\"Iris-setosa\"},{\"sepallength\":5.0,\"sepalwidth\":3.2,\"petallength\":1.2,\"petalwidth\":0.2,\"class\":\"Iris-setosa\"},{\"sepallength\":5.5,\"sepalwidth\":3.5,\"petallength\":1.3,\"petalwidth\":0.2,\"class\":\"Iris-setosa\"},{\"sepallength\":4.9,\"sepalwidth\":3.1,\"petallength\":1.5,\"petalwidth\":0.1,\"class\":\"Iris-setosa\"},{\"sepallength\":4.4,\"sepalwidth\":3.0,\"petallength\":1.3,\"petalwidth\":0.2,\"class\":\"Iris-setosa\"},{\"sepallength\":5.1,\"sepalwidth\":3.4,\"petallength\":1.5,\"petalwidth\":0.2,\"class\":\"Iris-setosa\"},{\"sepallength\":5.0,\"sepalwidth\":3.5,\"petallength\":1.3,\"petalwidth\":0.3,\"class\":\"Iris-setosa\"},{\"sepallength\":4.5,\"sepalwidth\":2.3,\"petallength\":1.3,\"petalwidth\":0.3,\"class\":\"Iris-setosa\"},{\"sepallength\":4.4,\"sepalwidth\":3.2,\"petallength\":1.3,\"petalwidth\":0.2,\"class\":\"Iris-setosa\"},{\"sepallength\":5.0,\"sepalwidth\":3.5,\"petallength\":1.6,\"petalwidth\":0.6,\"class\":\"Iris-setosa\"},{\"sepallength\":5.1,\"sepalwidth\":3.8,\"petallength\":1.9,\"petalwidth\":0.4,\"class\":\"Iris-setosa\"},{\"sepallength\":4.8,\"sepalwidth\":3.0,\"petallength\":1.4,\"petalwidth\":0.3,\"class\":\"Iris-setosa\"},{\"sepallength\":5.1,\"sepalwidth\":3.8,\"petallength\":1.6,\"petalwidth\":0.2,\"class\":\"Iris-setosa\"},{\"sepallength\":4.6,\"sepalwidth\":3.2,\"petallength\":1.4,\"petalwidth\":0.2,\"class\":\"Iris-setosa\"},{\"sepallength\":5.3,\"sepalwidth\":3.7,\"petallength\":1.5,\"petalwidth\":0.2,\"class\":\"Iris-setosa\"},{\"sepallength\":5.0,\"sepalwidth\":3.3,\"petallength\":1.4,\"petalwidth\":0.2,\"class\":\"Iris-setosa\"},{\"sepallength\":7.0,\"sepalwidth\":3.2,\"petallength\":4.7,\"petalwidth\":1.4,\"class\":\"Iris-versicolor\"},{\"sepallength\":6.4,\"sepalwidth\":3.2,\"petallength\":4.5,\"petalwidth\":1.5,\"class\":\"Iris-versicolor\"},{\"sepallength\":6.9,\"sepalwidth\":3.1,\"petallength\":4.9,\"petalwidth\":1.5,\"class\":\"Iris-versicolor\"},{\"sepallength\":5.5,\"sepalwidth\":2.3,\"petallength\":4.0,\"petalwidth\":1.3,\"class\":\"Iris-versicolor\"},{\"sepallength\":6.5,\"sepalwidth\":2.8,\"petallength\":4.6,\"petalwidth\":1.5,\"class\":\"Iris-versicolor\"},{\"sepallength\":5.7,\"sepalwidth\":2.8,\"petallength\":4.5,\"petalwidth\":1.3,\"class\":\"Iris-versicolor\"},{\"sepallength\":6.3,\"sepalwidth\":3.3,\"petallength\":4.7,\"petalwidth\":1.6,\"class\":\"Iris-versicolor\"},{\"sepallength\":4.9,\"sepalwidth\":2.4,\"petallength\":3.3,\"petalwidth\":1.0,\"class\":\"Iris-versicolor\"},{\"sepallength\":6.6,\"sepalwidth\":2.9,\"petallength\":4.6,\"petalwidth\":1.3,\"class\":\"Iris-versicolor\"},{\"sepallength\":5.2,\"sepalwidth\":2.7,\"petallength\":3.9,\"petalwidth\":1.4,\"class\":\"Iris-versicolor\"},{\"sepallength\":5.0,\"sepalwidth\":2.0,\"petallength\":3.5,\"petalwidth\":1.0,\"class\":\"Iris-versicolor\"},{\"sepallength\":5.9,\"sepalwidth\":3.0,\"petallength\":4.2,\"petalwidth\":1.5,\"class\":\"Iris-versicolor\"},{\"sepallength\":6.0,\"sepalwidth\":2.2,\"petallength\":4.0,\"petalwidth\":1.0,\"class\":\"Iris-versicolor\"},{\"sepallength\":6.1,\"sepalwidth\":2.9,\"petallength\":4.7,\"petalwidth\":1.4,\"class\":\"Iris-versicolor\"},{\"sepallength\":5.6,\"sepalwidth\":2.9,\"petallength\":3.6,\"petalwidth\":1.3,\"class\":\"Iris-versicolor\"},{\"sepallength\":6.7,\"sepalwidth\":3.1,\"petallength\":4.4,\"petalwidth\":1.4,\"class\":\"Iris-versicolor\"},{\"sepallength\":5.6,\"sepalwidth\":3.0,\"petallength\":4.5,\"petalwidth\":1.5,\"class\":\"Iris-versicolor\"},{\"sepallength\":5.8,\"sepalwidth\":2.7,\"petallength\":4.1,\"petalwidth\":1.0,\"class\":\"Iris-versicolor\"},{\"sepallength\":6.2,\"sepalwidth\":2.2,\"petallength\":4.5,\"petalwidth\":1.5,\"class\":\"Iris-versicolor\"},{\"sepallength\":5.6,\"sepalwidth\":2.5,\"petallength\":3.9,\"petalwidth\":1.1,\"class\":\"Iris-versicolor\"},{\"sepallength\":5.9,\"sepalwidth\":3.2,\"petallength\":4.8,\"petalwidth\":1.8,\"class\":\"Iris-versicolor\"},{\"sepallength\":6.1,\"sepalwidth\":2.8,\"petallength\":4.0,\"petalwidth\":1.3,\"class\":\"Iris-versicolor\"},{\"sepallength\":6.3,\"sepalwidth\":2.5,\"petallength\":4.9,\"petalwidth\":1.5,\"class\":\"Iris-versicolor\"},{\"sepallength\":6.1,\"sepalwidth\":2.8,\"petallength\":4.7,\"petalwidth\":1.2,\"class\":\"Iris-versicolor\"},{\"sepallength\":6.4,\"sepalwidth\":2.9,\"petallength\":4.3,\"petalwidth\":1.3,\"class\":\"Iris-versicolor\"},{\"sepallength\":6.6,\"sepalwidth\":3.0,\"petallength\":4.4,\"petalwidth\":1.4,\"class\":\"Iris-versicolor\"},{\"sepallength\":6.8,\"sepalwidth\":2.8,\"petallength\":4.8,\"petalwidth\":1.4,\"class\":\"Iris-versicolor\"},{\"sepallength\":6.7,\"sepalwidth\":3.0,\"petallength\":5.0,\"petalwidth\":1.7,\"class\":\"Iris-versicolor\"},{\"sepallength\":6.0,\"sepalwidth\":2.9,\"petallength\":4.5,\"petalwidth\":1.5,\"class\":\"Iris-versicolor\"},{\"sepallength\":5.7,\"sepalwidth\":2.6,\"petallength\":3.5,\"petalwidth\":1.0,\"class\":\"Iris-versicolor\"},{\"sepallength\":5.5,\"sepalwidth\":2.4,\"petallength\":3.8,\"petalwidth\":1.1,\"class\":\"Iris-versicolor\"},{\"sepallength\":5.5,\"sepalwidth\":2.4,\"petallength\":3.7,\"petalwidth\":1.0,\"class\":\"Iris-versicolor\"},{\"sepallength\":5.8,\"sepalwidth\":2.7,\"petallength\":3.9,\"petalwidth\":1.2,\"class\":\"Iris-versicolor\"},{\"sepallength\":6.0,\"sepalwidth\":2.7,\"petallength\":5.1,\"petalwidth\":1.6,\"class\":\"Iris-versicolor\"},{\"sepallength\":5.4,\"sepalwidth\":3.0,\"petallength\":4.5,\"petalwidth\":1.5,\"class\":\"Iris-versicolor\"},{\"sepallength\":6.0,\"sepalwidth\":3.4,\"petallength\":4.5,\"petalwidth\":1.6,\"class\":\"Iris-versicolor\"},{\"sepallength\":6.7,\"sepalwidth\":3.1,\"petallength\":4.7,\"petalwidth\":1.5,\"class\":\"Iris-versicolor\"},{\"sepallength\":6.3,\"sepalwidth\":2.3,\"petallength\":4.4,\"petalwidth\":1.3,\"class\":\"Iris-versicolor\"},{\"sepallength\":5.6,\"sepalwidth\":3.0,\"petallength\":4.1,\"petalwidth\":1.3,\"class\":\"Iris-versicolor\"},{\"sepallength\":5.5,\"sepalwidth\":2.5,\"petallength\":4.0,\"petalwidth\":1.3,\"class\":\"Iris-versicolor\"},{\"sepallength\":5.5,\"sepalwidth\":2.6,\"petallength\":4.4,\"petalwidth\":1.2,\"class\":\"Iris-versicolor\"},{\"sepallength\":6.1,\"sepalwidth\":3.0,\"petallength\":4.6,\"petalwidth\":1.4,\"class\":\"Iris-versicolor\"},{\"sepallength\":5.8,\"sepalwidth\":2.6,\"petallength\":4.0,\"petalwidth\":1.2,\"class\":\"Iris-versicolor\"},{\"sepallength\":5.0,\"sepalwidth\":2.3,\"petallength\":3.3,\"petalwidth\":1.0,\"class\":\"Iris-versicolor\"},{\"sepallength\":5.6,\"sepalwidth\":2.7,\"petallength\":4.2,\"petalwidth\":1.3,\"class\":\"Iris-versicolor\"},{\"sepallength\":5.7,\"sepalwidth\":3.0,\"petallength\":4.2,\"petalwidth\":1.2,\"class\":\"Iris-versicolor\"},{\"sepallength\":5.7,\"sepalwidth\":2.9,\"petallength\":4.2,\"petalwidth\":1.3,\"class\":\"Iris-versicolor\"},{\"sepallength\":6.2,\"sepalwidth\":2.9,\"petallength\":4.3,\"petalwidth\":1.3,\"class\":\"Iris-versicolor\"},{\"sepallength\":5.1,\"sepalwidth\":2.5,\"petallength\":3.0,\"petalwidth\":1.1,\"class\":\"Iris-versicolor\"},{\"sepallength\":5.7,\"sepalwidth\":2.8,\"petallength\":4.1,\"petalwidth\":1.3,\"class\":\"Iris-versicolor\"},{\"sepallength\":6.3,\"sepalwidth\":3.3,\"petallength\":6.0,\"petalwidth\":2.5,\"class\":\"Iris-virginica\"},{\"sepallength\":5.8,\"sepalwidth\":2.7,\"petallength\":5.1,\"petalwidth\":1.9,\"class\":\"Iris-virginica\"},{\"sepallength\":7.1,\"sepalwidth\":3.0,\"petallength\":5.9,\"petalwidth\":2.1,\"class\":\"Iris-virginica\"},{\"sepallength\":6.3,\"sepalwidth\":2.9,\"petallength\":5.6,\"petalwidth\":1.8,\"class\":\"Iris-virginica\"},{\"sepallength\":6.5,\"sepalwidth\":3.0,\"petallength\":5.8,\"petalwidth\":2.2,\"class\":\"Iris-virginica\"},{\"sepallength\":7.6,\"sepalwidth\":3.0,\"petallength\":6.6,\"petalwidth\":2.1,\"class\":\"Iris-virginica\"},{\"sepallength\":4.9,\"sepalwidth\":2.5,\"petallength\":4.5,\"petalwidth\":1.7,\"class\":\"Iris-virginica\"},{\"sepallength\":7.3,\"sepalwidth\":2.9,\"petallength\":6.3,\"petalwidth\":1.8,\"class\":\"Iris-virginica\"},{\"sepallength\":6.7,\"sepalwidth\":2.5,\"petallength\":5.8,\"petalwidth\":1.8,\"class\":\"Iris-virginica\"},{\"sepallength\":7.2,\"sepalwidth\":3.6,\"petallength\":6.1,\"petalwidth\":2.5,\"class\":\"Iris-virginica\"},{\"sepallength\":6.5,\"sepalwidth\":3.2,\"petallength\":5.1,\"petalwidth\":2.0,\"class\":\"Iris-virginica\"},{\"sepallength\":6.4,\"sepalwidth\":2.7,\"petallength\":5.3,\"petalwidth\":1.9,\"class\":\"Iris-virginica\"},{\"sepallength\":6.8,\"sepalwidth\":3.0,\"petallength\":5.5,\"petalwidth\":2.1,\"class\":\"Iris-virginica\"},{\"sepallength\":5.7,\"sepalwidth\":2.5,\"petallength\":5.0,\"petalwidth\":2.0,\"class\":\"Iris-virginica\"},{\"sepallength\":5.8,\"sepalwidth\":2.8,\"petallength\":5.1,\"petalwidth\":2.4,\"class\":\"Iris-virginica\"},{\"sepallength\":6.4,\"sepalwidth\":3.2,\"petallength\":5.3,\"petalwidth\":2.3,\"class\":\"Iris-virginica\"},{\"sepallength\":6.5,\"sepalwidth\":3.0,\"petallength\":5.5,\"petalwidth\":1.8,\"class\":\"Iris-virginica\"},{\"sepallength\":7.7,\"sepalwidth\":3.8,\"petallength\":6.7,\"petalwidth\":2.2,\"class\":\"Iris-virginica\"},{\"sepallength\":7.7,\"sepalwidth\":2.6,\"petallength\":6.9,\"petalwidth\":2.3,\"class\":\"Iris-virginica\"},{\"sepallength\":6.0,\"sepalwidth\":2.2,\"petallength\":5.0,\"petalwidth\":1.5,\"class\":\"Iris-virginica\"},{\"sepallength\":6.9,\"sepalwidth\":3.2,\"petallength\":5.7,\"petalwidth\":2.3,\"class\":\"Iris-virginica\"},{\"sepallength\":5.6,\"sepalwidth\":2.8,\"petallength\":4.9,\"petalwidth\":2.0,\"class\":\"Iris-virginica\"},{\"sepallength\":7.7,\"sepalwidth\":2.8,\"petallength\":6.7,\"petalwidth\":2.0,\"class\":\"Iris-virginica\"},{\"sepallength\":6.3,\"sepalwidth\":2.7,\"petallength\":4.9,\"petalwidth\":1.8,\"class\":\"Iris-virginica\"},{\"sepallength\":6.7,\"sepalwidth\":3.3,\"petallength\":5.7,\"petalwidth\":2.1,\"class\":\"Iris-virginica\"},{\"sepallength\":7.2,\"sepalwidth\":3.2,\"petallength\":6.0,\"petalwidth\":1.8,\"class\":\"Iris-virginica\"},{\"sepallength\":6.2,\"sepalwidth\":2.8,\"petallength\":4.8,\"petalwidth\":1.8,\"class\":\"Iris-virginica\"},{\"sepallength\":6.1,\"sepalwidth\":3.0,\"petallength\":4.9,\"petalwidth\":1.8,\"class\":\"Iris-virginica\"},{\"sepallength\":6.4,\"sepalwidth\":2.8,\"petallength\":5.6,\"petalwidth\":2.1,\"class\":\"Iris-virginica\"},{\"sepallength\":7.2,\"sepalwidth\":3.0,\"petallength\":5.8,\"petalwidth\":1.6,\"class\":\"Iris-virginica\"},{\"sepallength\":7.4,\"sepalwidth\":2.8,\"petallength\":6.1,\"petalwidth\":1.9,\"class\":\"Iris-virginica\"},{\"sepallength\":7.9,\"sepalwidth\":3.8,\"petallength\":6.4,\"petalwidth\":2.0,\"class\":\"Iris-virginica\"},{\"sepallength\":6.4,\"sepalwidth\":2.8,\"petallength\":5.6,\"petalwidth\":2.2,\"class\":\"Iris-virginica\"},{\"sepallength\":6.3,\"sepalwidth\":2.8,\"petallength\":5.1,\"petalwidth\":1.5,\"class\":\"Iris-virginica\"},{\"sepallength\":6.1,\"sepalwidth\":2.6,\"petallength\":5.6,\"petalwidth\":1.4,\"class\":\"Iris-virginica\"},{\"sepallength\":7.7,\"sepalwidth\":3.0,\"petallength\":6.1,\"petalwidth\":2.3,\"class\":\"Iris-virginica\"},{\"sepallength\":6.3,\"sepalwidth\":3.4,\"petallength\":5.6,\"petalwidth\":2.4,\"class\":\"Iris-virginica\"},{\"sepallength\":6.4,\"sepalwidth\":3.1,\"petallength\":5.5,\"petalwidth\":1.8,\"class\":\"Iris-virginica\"},{\"sepallength\":6.0,\"sepalwidth\":3.0,\"petallength\":4.8,\"petalwidth\":1.8,\"class\":\"Iris-virginica\"},{\"sepallength\":6.9,\"sepalwidth\":3.1,\"petallength\":5.4,\"petalwidth\":2.1,\"class\":\"Iris-virginica\"},{\"sepallength\":6.7,\"sepalwidth\":3.1,\"petallength\":5.6,\"petalwidth\":2.4,\"class\":\"Iris-virginica\"},{\"sepallength\":6.9,\"sepalwidth\":3.1,\"petallength\":5.1,\"petalwidth\":2.3,\"class\":\"Iris-virginica\"},{\"sepallength\":5.8,\"sepalwidth\":2.7,\"petallength\":5.1,\"petalwidth\":1.9,\"class\":\"Iris-virginica\"},{\"sepallength\":6.8,\"sepalwidth\":3.2,\"petallength\":5.9,\"petalwidth\":2.3,\"class\":\"Iris-virginica\"},{\"sepallength\":6.7,\"sepalwidth\":3.3,\"petallength\":5.7,\"petalwidth\":2.5,\"class\":\"Iris-virginica\"},{\"sepallength\":6.7,\"sepalwidth\":3.0,\"petallength\":5.2,\"petalwidth\":2.3,\"class\":\"Iris-virginica\"},{\"sepallength\":6.3,\"sepalwidth\":2.5,\"petallength\":5.0,\"petalwidth\":1.9,\"class\":\"Iris-virginica\"},{\"sepallength\":6.5,\"sepalwidth\":3.0,\"petallength\":5.2,\"petalwidth\":2.0,\"class\":\"Iris-virginica\"},{\"sepallength\":6.2,\"sepalwidth\":3.4,\"petallength\":5.4,\"petalwidth\":2.3,\"class\":\"Iris-virginica\"},{\"sepallength\":5.9,\"sepalwidth\":3.0,\"petallength\":5.1,\"petalwidth\":1.8,\"class\":\"Iris-virginica\"}];\n",
       "      document.querySelector(\"#facets_8UDRr4bAmqhU50plQeFp\").data = data;\n",
       "    </script>\n"
      ],
      "text/plain": [
       "<IPython.core.display.HTML object>"
      ]
     },
     "execution_count": 4,
     "metadata": {},
     "output_type": "execute_result"
    }
   ],
   "source": [
    "facets.dive(data)"
   ]
  }
 ],
 "metadata": {
  "kernelspec": {
   "display_name": "Python 3",
   "language": "python",
   "name": "python3"
  },
  "language_info": {
   "codemirror_mode": {
    "name": "ipython",
    "version": 3
   },
   "file_extension": ".py",
   "mimetype": "text/x-python",
   "name": "python",
   "nbconvert_exporter": "python",
   "pygments_lexer": "ipython3",
   "version": "3.6.8"
  }
 },
 "nbformat": 4,
 "nbformat_minor": 4
}
